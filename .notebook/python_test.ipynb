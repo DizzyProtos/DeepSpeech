{
 "cells": [
  {
   "cell_type": "code",
   "execution_count": 1,
   "id": "choice-lender",
   "metadata": {},
   "outputs": [],
   "source": [
    "eng=\"one minute a voice said and the time buzzer sounded\"\n",
    "chn=\"可控是病毒武器最基本的要求\""
   ]
  },
  {
   "cell_type": "code",
   "execution_count": 3,
   "id": "ruled-kuwait",
   "metadata": {},
   "outputs": [
    {
     "name": "stdout",
     "output_type": "stream",
     "text": [
      "o\n",
      "n\n",
      "e\n",
      " \n",
      "m\n",
      "i\n",
      "n\n",
      "u\n",
      "t\n",
      "e\n",
      " \n",
      "a\n",
      " \n",
      "v\n",
      "o\n",
      "i\n",
      "c\n",
      "e\n",
      " \n",
      "s\n",
      "a\n",
      "i\n",
      "d\n",
      " \n",
      "a\n",
      "n\n",
      "d\n",
      " \n",
      "t\n",
      "h\n",
      "e\n",
      " \n",
      "t\n",
      "i\n",
      "m\n",
      "e\n",
      " \n",
      "b\n",
      "u\n",
      "z\n",
      "z\n",
      "e\n",
      "r\n",
      " \n",
      "s\n",
      "o\n",
      "u\n",
      "n\n",
      "d\n",
      "e\n",
      "d\n"
     ]
    }
   ],
   "source": [
    "for char in eng:\n",
    "    print(char)"
   ]
  },
  {
   "cell_type": "code",
   "execution_count": 4,
   "id": "passive-petite",
   "metadata": {},
   "outputs": [
    {
     "name": "stdout",
     "output_type": "stream",
     "text": [
      "可\n",
      "控\n",
      "是\n",
      "病\n",
      "毒\n",
      "武\n",
      "器\n",
      "最\n",
      "基\n",
      "本\n",
      "的\n",
      "要\n",
      "求\n"
     ]
    }
   ],
   "source": [
    "for char in chn:\n",
    "    print(char)"
   ]
  },
  {
   "cell_type": "code",
   "execution_count": 7,
   "id": "olympic-realtor",
   "metadata": {},
   "outputs": [
    {
     "name": "stdout",
     "output_type": "stream",
     "text": [
      "one\n",
      "minute\n",
      "a\n",
      "voice\n",
      "said\n",
      "and\n",
      "the\n",
      "time\n",
      "buzzer\n",
      "sounded\n"
     ]
    }
   ],
   "source": [
    "for word in eng.split():\n",
    "    print(word)"
   ]
  },
  {
   "cell_type": "code",
   "execution_count": 8,
   "id": "induced-enhancement",
   "metadata": {},
   "outputs": [
    {
     "name": "stdout",
     "output_type": "stream",
     "text": [
      "可控是病毒武器最基本的要求\n"
     ]
    }
   ],
   "source": [
    "for word in chn.split():\n",
    "    print(word)"
   ]
  },
  {
   "cell_type": "code",
   "execution_count": 9,
   "id": "lovely-bottle",
   "metadata": {},
   "outputs": [
    {
     "ename": "ModuleNotFoundError",
     "evalue": "No module named 'StringIO'",
     "output_type": "error",
     "traceback": [
      "\u001b[0;31m---------------------------------------------------------------------------\u001b[0m",
      "\u001b[0;31mModuleNotFoundError\u001b[0m                       Traceback (most recent call last)",
      "\u001b[0;32m<ipython-input-9-3e4825b8299f>\u001b[0m in \u001b[0;36m<module>\u001b[0;34m\u001b[0m\n\u001b[0;32m----> 1\u001b[0;31m \u001b[0;32mimport\u001b[0m \u001b[0mStringIO\u001b[0m\u001b[0;34m\u001b[0m\u001b[0m\n\u001b[0m",
      "\u001b[0;31mModuleNotFoundError\u001b[0m: No module named 'StringIO'"
     ]
    }
   ],
   "source": [
    "import StringIO"
   ]
  },
  {
   "cell_type": "code",
   "execution_count": 10,
   "id": "interested-cardiff",
   "metadata": {},
   "outputs": [],
   "source": [
    "from io import StringIO"
   ]
  },
  {
   "cell_type": "code",
   "execution_count": 11,
   "id": "portable-ivory",
   "metadata": {},
   "outputs": [],
   "source": [
    "inputs = StringIO()"
   ]
  },
  {
   "cell_type": "code",
   "execution_count": 18,
   "id": "compatible-destination",
   "metadata": {},
   "outputs": [
    {
     "data": {
      "text/plain": [
       "64"
      ]
     },
     "execution_count": 18,
     "metadata": {},
     "output_type": "execute_result"
    }
   ],
   "source": [
    "inputs.write(\"nor is mister quilter's manner less interesting than his matter\" + '\\n')"
   ]
  },
  {
   "cell_type": "code",
   "execution_count": 19,
   "id": "federal-margin",
   "metadata": {},
   "outputs": [
    {
     "name": "stdout",
     "output_type": "stream",
     "text": [
      "nor is mister quilter's manner less interesting than his matternor is mister quilter's manner less interesting than his matter\n",
      "\n"
     ]
    }
   ],
   "source": [
    "print(inputs.getvalue())"
   ]
  },
  {
   "cell_type": "code",
   "execution_count": 20,
   "id": "consecutive-entity",
   "metadata": {},
   "outputs": [
    {
     "data": {
      "text/plain": [
       "64"
      ]
     },
     "execution_count": 20,
     "metadata": {},
     "output_type": "execute_result"
    }
   ],
   "source": [
    "inputs.write(\"nor is mister quilter's manner less interesting than his matter\" + '\\n')"
   ]
  },
  {
   "cell_type": "code",
   "execution_count": 21,
   "id": "desirable-anxiety",
   "metadata": {},
   "outputs": [
    {
     "name": "stdout",
     "output_type": "stream",
     "text": [
      "nor is mister quilter's manner less interesting than his matternor is mister quilter's manner less interesting than his matter\n",
      "nor is mister quilter's manner less interesting than his matter\n",
      "\n"
     ]
    }
   ],
   "source": [
    "print(inputs.getvalue())"
   ]
  },
  {
   "cell_type": "code",
   "execution_count": 23,
   "id": "employed-schedule",
   "metadata": {},
   "outputs": [],
   "source": [
    "import tempfile"
   ]
  },
  {
   "cell_type": "code",
   "execution_count": 25,
   "id": "unlikely-honduras",
   "metadata": {},
   "outputs": [
    {
     "name": "stdout",
     "output_type": "stream",
     "text": [
      "['__class__', '__del__', '__delattr__', '__dict__', '__dir__', '__doc__', '__enter__', '__eq__', '__exit__', '__format__', '__ge__', '__getattribute__', '__getstate__', '__gt__', '__hash__', '__init__', '__init_subclass__', '__iter__', '__le__', '__lt__', '__ne__', '__new__', '__next__', '__reduce__', '__reduce_ex__', '__repr__', '__setattr__', '__sizeof__', '__str__', '__subclasshook__', '_checkClosed', '_checkReadable', '_checkSeekable', '_checkWritable', '_dealloc_warn', '_finalizing', 'close', 'closed', 'detach', 'fileno', 'flush', 'isatty', 'mode', 'name', 'peek', 'raw', 'read', 'read1', 'readable', 'readinto', 'readinto1', 'readline', 'readlines', 'seek', 'seekable', 'tell', 'truncate', 'writable', 'write', 'writelines']\n",
      "57\n"
     ]
    }
   ],
   "source": [
    "with tempfile.TemporaryFile() as fp:\n",
    "    print(dir(fp))\n",
    "    print(fp.name)"
   ]
  },
  {
   "cell_type": "code",
   "execution_count": 27,
   "id": "needed-trail",
   "metadata": {},
   "outputs": [],
   "source": [
    "a = tempfile.mkstemp(suffix=None, prefix='test', dir=None, text=False)"
   ]
  },
  {
   "cell_type": "code",
   "execution_count": 28,
   "id": "hazardous-choir",
   "metadata": {},
   "outputs": [
    {
     "name": "stdout",
     "output_type": "stream",
     "text": [
      "['__add__', '__class__', '__contains__', '__delattr__', '__dir__', '__doc__', '__eq__', '__format__', '__ge__', '__getattribute__', '__getitem__', '__getnewargs__', '__gt__', '__hash__', '__init__', '__init_subclass__', '__iter__', '__le__', '__len__', '__lt__', '__mul__', '__ne__', '__new__', '__reduce__', '__reduce_ex__', '__repr__', '__rmul__', '__setattr__', '__sizeof__', '__str__', '__subclasshook__', 'count', 'index']\n"
     ]
    }
   ],
   "source": [
    "print(dir(a))"
   ]
  },
  {
   "cell_type": "code",
   "execution_count": 29,
   "id": "front-sauce",
   "metadata": {},
   "outputs": [
    {
     "name": "stdout",
     "output_type": "stream",
     "text": [
      "(57, '/tmp/test27smzbzc')\n"
     ]
    }
   ],
   "source": [
    "print(a)"
   ]
  },
  {
   "cell_type": "code",
   "execution_count": 31,
   "id": "shared-wages",
   "metadata": {},
   "outputs": [
    {
     "name": "stdout",
     "output_type": "stream",
     "text": [
      "<built-in method index of tuple object at 0x7f999b525648>\n"
     ]
    }
   ],
   "source": [
    "print(a.index)"
   ]
  },
  {
   "cell_type": "code",
   "execution_count": 34,
   "id": "charged-carnival",
   "metadata": {},
   "outputs": [
    {
     "name": "stdout",
     "output_type": "stream",
     "text": [
      "['__class__', '__delattr__', '__dict__', '__dir__', '__doc__', '__enter__', '__eq__', '__exit__', '__format__', '__ge__', '__getattr__', '__getattribute__', '__gt__', '__hash__', '__init__', '__init_subclass__', '__iter__', '__le__', '__lt__', '__module__', '__ne__', '__new__', '__reduce__', '__reduce_ex__', '__repr__', '__setattr__', '__sizeof__', '__str__', '__subclasshook__', '__weakref__', '_closer', 'close', 'delete', 'file', 'name']\n",
      "/tmp/tmpfjn7mygy\n"
     ]
    }
   ],
   "source": [
    "fp= tempfile.NamedTemporaryFile(mode='w', delete=False)\n",
    "print(dir(fp))\n",
    "print(fp.name)\n",
    "fp.close()"
   ]
  },
  {
   "cell_type": "code",
   "execution_count": 36,
   "id": "religious-terror",
   "metadata": {},
   "outputs": [
    {
     "name": "stdout",
     "output_type": "stream",
     "text": [
      "/tmp/tmpfjn7mygy\n"
     ]
    }
   ],
   "source": [
    "import os\n",
    "os.path.exists(fp.name)\n",
    "print(fp.name)"
   ]
  },
  {
   "cell_type": "code",
   "execution_count": 37,
   "id": "communist-gospel",
   "metadata": {},
   "outputs": [
    {
     "data": {
      "text/plain": [
       "<function BufferedRandom.write(buffer, /)>"
      ]
     },
     "execution_count": 37,
     "metadata": {},
     "output_type": "execute_result"
    }
   ],
   "source": [
    "fp.write"
   ]
  },
  {
   "cell_type": "code",
   "execution_count": 39,
   "id": "simplified-clarity",
   "metadata": {},
   "outputs": [
    {
     "data": {
      "text/plain": [
       "'example'"
      ]
     },
     "execution_count": 39,
     "metadata": {},
     "output_type": "execute_result"
    }
   ],
   "source": [
    "s='/home/ubuntu/python/example.py'\n",
    "os.path.splitext(os.path.basename(s))[0]"
   ]
  },
  {
   "cell_type": "code",
   "execution_count": 40,
   "id": "popular-genius",
   "metadata": {},
   "outputs": [],
   "source": [
    "from collections import Counter"
   ]
  },
  {
   "cell_type": "code",
   "execution_count": 43,
   "id": "studied-burner",
   "metadata": {},
   "outputs": [
    {
     "name": "stdout",
     "output_type": "stream",
     "text": [
      "dict_items([('hello', 1), ('world', 1)])\n"
     ]
    }
   ],
   "source": [
    "counter = Counter()\n",
    "counter.update([\"hello\"])\n",
    "counter.update([\"world\"])\n",
    "print(counter.items())"
   ]
  },
  {
   "cell_type": "code",
   "execution_count": 44,
   "id": "mineral-ceremony",
   "metadata": {},
   "outputs": [
    {
     "name": "stdout",
     "output_type": "stream",
     "text": [
      "dict_items([('h', 1), ('e', 1), ('l', 3), ('o', 2), ('w', 1), ('r', 1), ('d', 1)])\n"
     ]
    }
   ],
   "source": [
    "counter = Counter()\n",
    "counter.update(\"hello\")\n",
    "counter.update(\"world\")\n",
    "print(counter.items())"
   ]
  },
  {
   "cell_type": "code",
   "execution_count": 45,
   "id": "nonprofit-freedom",
   "metadata": {},
   "outputs": [],
   "source": [
    "counter.update(list(\"hello\"))"
   ]
  },
  {
   "cell_type": "code",
   "execution_count": 46,
   "id": "extended-methodology",
   "metadata": {},
   "outputs": [
    {
     "name": "stdout",
     "output_type": "stream",
     "text": [
      "dict_items([('h', 2), ('e', 2), ('l', 5), ('o', 3), ('w', 1), ('r', 1), ('d', 1)])\n"
     ]
    }
   ],
   "source": [
    "print(counter.items())"
   ]
  },
  {
   "cell_type": "code",
   "execution_count": 47,
   "id": "grand-benjamin",
   "metadata": {},
   "outputs": [
    {
     "data": {
      "text/plain": [
       "['h', 'e', 'l', 'l', 'o']"
      ]
     },
     "execution_count": 47,
     "metadata": {},
     "output_type": "execute_result"
    }
   ],
   "source": [
    "list(\"hello\")"
   ]
  },
  {
   "cell_type": "code",
   "execution_count": 53,
   "id": "marine-fundamentals",
   "metadata": {},
   "outputs": [
    {
     "name": "stdout",
     "output_type": "stream",
     "text": [
      "{}\n"
     ]
    }
   ],
   "source": [
    "from io import StringIO\n",
    "a = StringIO(initial_value='{}', newline='')\n",
    "print(a.read())"
   ]
  },
  {
   "cell_type": "code",
   "execution_count": 56,
   "id": "suitable-charlotte",
   "metadata": {},
   "outputs": [
    {
     "ename": "TypeError",
     "evalue": "expected str, bytes or os.PathLike object, not _io.StringIO",
     "output_type": "error",
     "traceback": [
      "\u001b[0;31m---------------------------------------------------------------------------\u001b[0m",
      "\u001b[0;31mTypeError\u001b[0m                                 Traceback (most recent call last)",
      "\u001b[0;32m<ipython-input-56-4323a912120d>\u001b[0m in \u001b[0;36m<module>\u001b[0;34m\u001b[0m\n\u001b[0;32m----> 1\u001b[0;31m \u001b[0;32mwith\u001b[0m \u001b[0mio\u001b[0m\u001b[0;34m.\u001b[0m\u001b[0mopen\u001b[0m\u001b[0;34m(\u001b[0m\u001b[0ma\u001b[0m\u001b[0;34m)\u001b[0m \u001b[0;32mas\u001b[0m \u001b[0mf\u001b[0m\u001b[0;34m:\u001b[0m\u001b[0;34m\u001b[0m\u001b[0m\n\u001b[0m\u001b[1;32m      2\u001b[0m     \u001b[0mprint\u001b[0m\u001b[0;34m(\u001b[0m\u001b[0mf\u001b[0m\u001b[0;34m.\u001b[0m\u001b[0mread\u001b[0m\u001b[0;34m(\u001b[0m\u001b[0;34m)\u001b[0m\u001b[0;34m)\u001b[0m\u001b[0;34m\u001b[0m\u001b[0m\n",
      "\u001b[0;31mTypeError\u001b[0m: expected str, bytes or os.PathLike object, not _io.StringIO"
     ]
    }
   ],
   "source": [
    "with io.open(a) as f:\n",
    "    print(f.read())"
   ]
  },
  {
   "cell_type": "code",
   "execution_count": 57,
   "id": "institutional-configuration",
   "metadata": {},
   "outputs": [],
   "source": [
    "io.open?"
   ]
  },
  {
   "cell_type": "code",
   "execution_count": null,
   "id": "pregnant-modem",
   "metadata": {},
   "outputs": [],
   "source": []
  }
 ],
 "metadata": {
  "kernelspec": {
   "display_name": "Python 3",
   "language": "python",
   "name": "python3"
  },
  "language_info": {
   "codemirror_mode": {
    "name": "ipython",
    "version": 3
   },
   "file_extension": ".py",
   "mimetype": "text/x-python",
   "name": "python",
   "nbconvert_exporter": "python",
   "pygments_lexer": "ipython3",
   "version": "3.7.0"
  }
 },
 "nbformat": 4,
 "nbformat_minor": 5
}
